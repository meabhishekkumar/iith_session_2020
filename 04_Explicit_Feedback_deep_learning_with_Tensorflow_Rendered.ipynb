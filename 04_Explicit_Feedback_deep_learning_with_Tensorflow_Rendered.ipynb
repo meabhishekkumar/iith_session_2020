{
 "cells": [
  {
   "cell_type": "markdown",
   "metadata": {},
   "source": [
    "# Explicit Feedback Neural Recommender Systems\n",
    "\n",
    "Goals:\n",
    "- Understand recommendation system \n",
    "- Build different models architectures using Tensorflow\n",
    "- Retrieve Embeddings and visualize them\n",
    "- Add metadata information as input to the model\n",
    "\n",
    "\n",
    "This notebook is inspired by Oliver Grisel Notebook who used Keras\n",
    "https://github.com/ogrisel for building the moels. We will be using Basic Tensorflow APIs instead. "
   ]
  },
  {
   "cell_type": "code",
   "execution_count": 1,
   "metadata": {},
   "outputs": [
    {
     "name": "stderr",
     "output_type": "stream",
     "text": [
      "/opt/conda/lib/python3.7/site-packages/tensorflow/python/framework/dtypes.py:526: FutureWarning: Passing (type, 1) or '1type' as a synonym of type is deprecated; in a future version of numpy, it will be understood as (type, (1,)) / '(1,)type'.\n",
      "  _np_qint8 = np.dtype([(\"qint8\", np.int8, 1)])\n",
      "/opt/conda/lib/python3.7/site-packages/tensorflow/python/framework/dtypes.py:527: FutureWarning: Passing (type, 1) or '1type' as a synonym of type is deprecated; in a future version of numpy, it will be understood as (type, (1,)) / '(1,)type'.\n",
      "  _np_quint8 = np.dtype([(\"quint8\", np.uint8, 1)])\n",
      "/opt/conda/lib/python3.7/site-packages/tensorflow/python/framework/dtypes.py:528: FutureWarning: Passing (type, 1) or '1type' as a synonym of type is deprecated; in a future version of numpy, it will be understood as (type, (1,)) / '(1,)type'.\n",
      "  _np_qint16 = np.dtype([(\"qint16\", np.int16, 1)])\n",
      "/opt/conda/lib/python3.7/site-packages/tensorflow/python/framework/dtypes.py:529: FutureWarning: Passing (type, 1) or '1type' as a synonym of type is deprecated; in a future version of numpy, it will be understood as (type, (1,)) / '(1,)type'.\n",
      "  _np_quint16 = np.dtype([(\"quint16\", np.uint16, 1)])\n",
      "/opt/conda/lib/python3.7/site-packages/tensorflow/python/framework/dtypes.py:530: FutureWarning: Passing (type, 1) or '1type' as a synonym of type is deprecated; in a future version of numpy, it will be understood as (type, (1,)) / '(1,)type'.\n",
      "  _np_qint32 = np.dtype([(\"qint32\", np.int32, 1)])\n",
      "/opt/conda/lib/python3.7/site-packages/tensorflow/python/framework/dtypes.py:535: FutureWarning: Passing (type, 1) or '1type' as a synonym of type is deprecated; in a future version of numpy, it will be understood as (type, (1,)) / '(1,)type'.\n",
      "  np_resource = np.dtype([(\"resource\", np.ubyte, 1)])\n"
     ]
    }
   ],
   "source": [
    "import pandas as pd\n",
    "import numpy as np\n",
    "import os\n",
    "import matplotlib.pyplot as plt\n",
    "from sklearn.model_selection import train_test_split\n",
    "import tensorflow as tf\n",
    "from tensorflow.contrib import layers\n",
    "from tensorflow.python.estimator.inputs import numpy_io\n",
    "from tensorflow.contrib.learn import *\n",
    "%matplotlib inline "
   ]
  },
  {
   "cell_type": "code",
   "execution_count": 2,
   "metadata": {},
   "outputs": [
    {
     "name": "stdout",
     "output_type": "stream",
     "text": [
      "Tensorflow Version : 1.13.2\n"
     ]
    }
   ],
   "source": [
    "print('Tensorflow Version : {0}'.format(tf.__version__))"
   ]
  },
  {
   "cell_type": "markdown",
   "metadata": {},
   "source": [
    "### Ratings file\n",
    "\n",
    "Each line contains a rated movie: \n",
    "- a user\n",
    "- an item\n",
    "- a rating from 1 to 5 stars"
   ]
  },
  {
   "cell_type": "code",
   "execution_count": 3,
   "metadata": {},
   "outputs": [],
   "source": [
    "# Base Path for MovieLens dataset\n",
    "ML_100K_PATH = os.path.join('processed','ml-100k','ml-100k')"
   ]
  },
  {
   "cell_type": "code",
   "execution_count": 4,
   "metadata": {},
   "outputs": [
    {
     "data": {
      "text/html": [
       "<div>\n",
       "<style scoped>\n",
       "    .dataframe tbody tr th:only-of-type {\n",
       "        vertical-align: middle;\n",
       "    }\n",
       "\n",
       "    .dataframe tbody tr th {\n",
       "        vertical-align: top;\n",
       "    }\n",
       "\n",
       "    .dataframe thead th {\n",
       "        text-align: right;\n",
       "    }\n",
       "</style>\n",
       "<table border=\"1\" class=\"dataframe\">\n",
       "  <thead>\n",
       "    <tr style=\"text-align: right;\">\n",
       "      <th></th>\n",
       "      <th>user_id</th>\n",
       "      <th>item_id</th>\n",
       "      <th>rating</th>\n",
       "      <th>timestamp</th>\n",
       "    </tr>\n",
       "  </thead>\n",
       "  <tbody>\n",
       "    <tr>\n",
       "      <th>0</th>\n",
       "      <td>196</td>\n",
       "      <td>242</td>\n",
       "      <td>3</td>\n",
       "      <td>881250949</td>\n",
       "    </tr>\n",
       "    <tr>\n",
       "      <th>1</th>\n",
       "      <td>186</td>\n",
       "      <td>302</td>\n",
       "      <td>3</td>\n",
       "      <td>891717742</td>\n",
       "    </tr>\n",
       "    <tr>\n",
       "      <th>2</th>\n",
       "      <td>22</td>\n",
       "      <td>377</td>\n",
       "      <td>1</td>\n",
       "      <td>878887116</td>\n",
       "    </tr>\n",
       "    <tr>\n",
       "      <th>3</th>\n",
       "      <td>244</td>\n",
       "      <td>51</td>\n",
       "      <td>2</td>\n",
       "      <td>880606923</td>\n",
       "    </tr>\n",
       "    <tr>\n",
       "      <th>4</th>\n",
       "      <td>166</td>\n",
       "      <td>346</td>\n",
       "      <td>1</td>\n",
       "      <td>886397596</td>\n",
       "    </tr>\n",
       "  </tbody>\n",
       "</table>\n",
       "</div>"
      ],
      "text/plain": [
       "   user_id  item_id  rating  timestamp\n",
       "0      196      242       3  881250949\n",
       "1      186      302       3  891717742\n",
       "2       22      377       1  878887116\n",
       "3      244       51       2  880606923\n",
       "4      166      346       1  886397596"
      ]
     },
     "execution_count": 4,
     "metadata": {},
     "output_type": "execute_result"
    }
   ],
   "source": [
    "df_raw_ratings = pd.read_csv(os.path.join(ML_100K_PATH, 'u.data'), sep='\\t',\n",
    "                      names=[\"user_id\", \"item_id\", \"rating\", \"timestamp\"])\n",
    "df_raw_ratings.head()"
   ]
  },
  {
   "cell_type": "markdown",
   "metadata": {},
   "source": [
    "### Item metadata file\n"
   ]
  },
  {
   "cell_type": "code",
   "execution_count": 5,
   "metadata": {},
   "outputs": [
    {
     "data": {
      "text/html": [
       "<div>\n",
       "<style scoped>\n",
       "    .dataframe tbody tr th:only-of-type {\n",
       "        vertical-align: middle;\n",
       "    }\n",
       "\n",
       "    .dataframe tbody tr th {\n",
       "        vertical-align: top;\n",
       "    }\n",
       "\n",
       "    .dataframe thead th {\n",
       "        text-align: right;\n",
       "    }\n",
       "</style>\n",
       "<table border=\"1\" class=\"dataframe\">\n",
       "  <thead>\n",
       "    <tr style=\"text-align: right;\">\n",
       "      <th></th>\n",
       "      <th>item_id</th>\n",
       "      <th>title</th>\n",
       "      <th>release_date</th>\n",
       "      <th>video_release_date</th>\n",
       "      <th>imdb_url</th>\n",
       "    </tr>\n",
       "  </thead>\n",
       "  <tbody>\n",
       "    <tr>\n",
       "      <th>0</th>\n",
       "      <td>1</td>\n",
       "      <td>Toy Story (1995)</td>\n",
       "      <td>01-Jan-1995</td>\n",
       "      <td>NaN</td>\n",
       "      <td>http://us.imdb.com/M/title-exact?Toy%20Story%2...</td>\n",
       "    </tr>\n",
       "    <tr>\n",
       "      <th>1</th>\n",
       "      <td>2</td>\n",
       "      <td>GoldenEye (1995)</td>\n",
       "      <td>01-Jan-1995</td>\n",
       "      <td>NaN</td>\n",
       "      <td>http://us.imdb.com/M/title-exact?GoldenEye%20(...</td>\n",
       "    </tr>\n",
       "    <tr>\n",
       "      <th>2</th>\n",
       "      <td>3</td>\n",
       "      <td>Four Rooms (1995)</td>\n",
       "      <td>01-Jan-1995</td>\n",
       "      <td>NaN</td>\n",
       "      <td>http://us.imdb.com/M/title-exact?Four%20Rooms%...</td>\n",
       "    </tr>\n",
       "    <tr>\n",
       "      <th>3</th>\n",
       "      <td>4</td>\n",
       "      <td>Get Shorty (1995)</td>\n",
       "      <td>01-Jan-1995</td>\n",
       "      <td>NaN</td>\n",
       "      <td>http://us.imdb.com/M/title-exact?Get%20Shorty%...</td>\n",
       "    </tr>\n",
       "    <tr>\n",
       "      <th>4</th>\n",
       "      <td>5</td>\n",
       "      <td>Copycat (1995)</td>\n",
       "      <td>01-Jan-1995</td>\n",
       "      <td>NaN</td>\n",
       "      <td>http://us.imdb.com/M/title-exact?Copycat%20(1995)</td>\n",
       "    </tr>\n",
       "  </tbody>\n",
       "</table>\n",
       "</div>"
      ],
      "text/plain": [
       "   item_id              title release_date  video_release_date  \\\n",
       "0        1   Toy Story (1995)  01-Jan-1995                 NaN   \n",
       "1        2   GoldenEye (1995)  01-Jan-1995                 NaN   \n",
       "2        3  Four Rooms (1995)  01-Jan-1995                 NaN   \n",
       "3        4  Get Shorty (1995)  01-Jan-1995                 NaN   \n",
       "4        5     Copycat (1995)  01-Jan-1995                 NaN   \n",
       "\n",
       "                                            imdb_url  \n",
       "0  http://us.imdb.com/M/title-exact?Toy%20Story%2...  \n",
       "1  http://us.imdb.com/M/title-exact?GoldenEye%20(...  \n",
       "2  http://us.imdb.com/M/title-exact?Four%20Rooms%...  \n",
       "3  http://us.imdb.com/M/title-exact?Get%20Shorty%...  \n",
       "4  http://us.imdb.com/M/title-exact?Copycat%20(1995)  "
      ]
     },
     "execution_count": 5,
     "metadata": {},
     "output_type": "execute_result"
    }
   ],
   "source": [
    "m_cols = ['item_id', 'title', 'release_date', 'video_release_date', 'imdb_url']\n",
    "# Loading only 5 columns\n",
    "df_items = pd.read_csv(os.path.join(ML_100K_PATH, 'u.item'), sep='|',\n",
    "                    names=m_cols, usecols=range(5), encoding='latin-1')\n",
    "df_items.head()"
   ]
  },
  {
   "cell_type": "code",
   "execution_count": 6,
   "metadata": {},
   "outputs": [],
   "source": [
    "def get_release_year(x):\n",
    "    splits = str(x).split('-')\n",
    "    if(len(splits) == 3):\n",
    "        return int(splits[2])\n",
    "    else:\n",
    "        return 1920\n",
    "    \n",
    "df_items['release_year'] = df_items['release_date'].map(lambda x : get_release_year(x))"
   ]
  },
  {
   "cell_type": "code",
   "execution_count": 7,
   "metadata": {},
   "outputs": [
    {
     "data": {
      "text/html": [
       "<div>\n",
       "<style scoped>\n",
       "    .dataframe tbody tr th:only-of-type {\n",
       "        vertical-align: middle;\n",
       "    }\n",
       "\n",
       "    .dataframe tbody tr th {\n",
       "        vertical-align: top;\n",
       "    }\n",
       "\n",
       "    .dataframe thead th {\n",
       "        text-align: right;\n",
       "    }\n",
       "</style>\n",
       "<table border=\"1\" class=\"dataframe\">\n",
       "  <thead>\n",
       "    <tr style=\"text-align: right;\">\n",
       "      <th></th>\n",
       "      <th>item_id</th>\n",
       "      <th>title</th>\n",
       "      <th>release_date</th>\n",
       "      <th>video_release_date</th>\n",
       "      <th>imdb_url</th>\n",
       "      <th>release_year</th>\n",
       "    </tr>\n",
       "  </thead>\n",
       "  <tbody>\n",
       "    <tr>\n",
       "      <th>0</th>\n",
       "      <td>1</td>\n",
       "      <td>Toy Story (1995)</td>\n",
       "      <td>01-Jan-1995</td>\n",
       "      <td>NaN</td>\n",
       "      <td>http://us.imdb.com/M/title-exact?Toy%20Story%2...</td>\n",
       "      <td>1995</td>\n",
       "    </tr>\n",
       "    <tr>\n",
       "      <th>1</th>\n",
       "      <td>2</td>\n",
       "      <td>GoldenEye (1995)</td>\n",
       "      <td>01-Jan-1995</td>\n",
       "      <td>NaN</td>\n",
       "      <td>http://us.imdb.com/M/title-exact?GoldenEye%20(...</td>\n",
       "      <td>1995</td>\n",
       "    </tr>\n",
       "    <tr>\n",
       "      <th>2</th>\n",
       "      <td>3</td>\n",
       "      <td>Four Rooms (1995)</td>\n",
       "      <td>01-Jan-1995</td>\n",
       "      <td>NaN</td>\n",
       "      <td>http://us.imdb.com/M/title-exact?Four%20Rooms%...</td>\n",
       "      <td>1995</td>\n",
       "    </tr>\n",
       "    <tr>\n",
       "      <th>3</th>\n",
       "      <td>4</td>\n",
       "      <td>Get Shorty (1995)</td>\n",
       "      <td>01-Jan-1995</td>\n",
       "      <td>NaN</td>\n",
       "      <td>http://us.imdb.com/M/title-exact?Get%20Shorty%...</td>\n",
       "      <td>1995</td>\n",
       "    </tr>\n",
       "    <tr>\n",
       "      <th>4</th>\n",
       "      <td>5</td>\n",
       "      <td>Copycat (1995)</td>\n",
       "      <td>01-Jan-1995</td>\n",
       "      <td>NaN</td>\n",
       "      <td>http://us.imdb.com/M/title-exact?Copycat%20(1995)</td>\n",
       "      <td>1995</td>\n",
       "    </tr>\n",
       "  </tbody>\n",
       "</table>\n",
       "</div>"
      ],
      "text/plain": [
       "   item_id              title release_date  video_release_date  \\\n",
       "0        1   Toy Story (1995)  01-Jan-1995                 NaN   \n",
       "1        2   GoldenEye (1995)  01-Jan-1995                 NaN   \n",
       "2        3  Four Rooms (1995)  01-Jan-1995                 NaN   \n",
       "3        4  Get Shorty (1995)  01-Jan-1995                 NaN   \n",
       "4        5     Copycat (1995)  01-Jan-1995                 NaN   \n",
       "\n",
       "                                            imdb_url  release_year  \n",
       "0  http://us.imdb.com/M/title-exact?Toy%20Story%2...          1995  \n",
       "1  http://us.imdb.com/M/title-exact?GoldenEye%20(...          1995  \n",
       "2  http://us.imdb.com/M/title-exact?Four%20Rooms%...          1995  \n",
       "3  http://us.imdb.com/M/title-exact?Get%20Shorty%...          1995  \n",
       "4  http://us.imdb.com/M/title-exact?Copycat%20(1995)          1995  "
      ]
     },
     "execution_count": 7,
     "metadata": {},
     "output_type": "execute_result"
    }
   ],
   "source": [
    "df_items.head()"
   ]
  },
  {
   "cell_type": "markdown",
   "metadata": {},
   "source": [
    "## Merge Rating with Item Metadata"
   ]
  },
  {
   "cell_type": "code",
   "execution_count": 8,
   "metadata": {},
   "outputs": [],
   "source": [
    "df_all_ratings = pd.merge(df_items, df_raw_ratings)"
   ]
  },
  {
   "cell_type": "code",
   "execution_count": 9,
   "metadata": {},
   "outputs": [
    {
     "data": {
      "text/html": [
       "<div>\n",
       "<style scoped>\n",
       "    .dataframe tbody tr th:only-of-type {\n",
       "        vertical-align: middle;\n",
       "    }\n",
       "\n",
       "    .dataframe tbody tr th {\n",
       "        vertical-align: top;\n",
       "    }\n",
       "\n",
       "    .dataframe thead th {\n",
       "        text-align: right;\n",
       "    }\n",
       "</style>\n",
       "<table border=\"1\" class=\"dataframe\">\n",
       "  <thead>\n",
       "    <tr style=\"text-align: right;\">\n",
       "      <th></th>\n",
       "      <th>item_id</th>\n",
       "      <th>title</th>\n",
       "      <th>release_date</th>\n",
       "      <th>video_release_date</th>\n",
       "      <th>imdb_url</th>\n",
       "      <th>release_year</th>\n",
       "      <th>user_id</th>\n",
       "      <th>rating</th>\n",
       "      <th>timestamp</th>\n",
       "    </tr>\n",
       "  </thead>\n",
       "  <tbody>\n",
       "    <tr>\n",
       "      <th>0</th>\n",
       "      <td>1</td>\n",
       "      <td>Toy Story (1995)</td>\n",
       "      <td>01-Jan-1995</td>\n",
       "      <td>NaN</td>\n",
       "      <td>http://us.imdb.com/M/title-exact?Toy%20Story%2...</td>\n",
       "      <td>1995</td>\n",
       "      <td>308</td>\n",
       "      <td>4</td>\n",
       "      <td>887736532</td>\n",
       "    </tr>\n",
       "    <tr>\n",
       "      <th>1</th>\n",
       "      <td>1</td>\n",
       "      <td>Toy Story (1995)</td>\n",
       "      <td>01-Jan-1995</td>\n",
       "      <td>NaN</td>\n",
       "      <td>http://us.imdb.com/M/title-exact?Toy%20Story%2...</td>\n",
       "      <td>1995</td>\n",
       "      <td>287</td>\n",
       "      <td>5</td>\n",
       "      <td>875334088</td>\n",
       "    </tr>\n",
       "    <tr>\n",
       "      <th>2</th>\n",
       "      <td>1</td>\n",
       "      <td>Toy Story (1995)</td>\n",
       "      <td>01-Jan-1995</td>\n",
       "      <td>NaN</td>\n",
       "      <td>http://us.imdb.com/M/title-exact?Toy%20Story%2...</td>\n",
       "      <td>1995</td>\n",
       "      <td>148</td>\n",
       "      <td>4</td>\n",
       "      <td>877019411</td>\n",
       "    </tr>\n",
       "    <tr>\n",
       "      <th>3</th>\n",
       "      <td>1</td>\n",
       "      <td>Toy Story (1995)</td>\n",
       "      <td>01-Jan-1995</td>\n",
       "      <td>NaN</td>\n",
       "      <td>http://us.imdb.com/M/title-exact?Toy%20Story%2...</td>\n",
       "      <td>1995</td>\n",
       "      <td>280</td>\n",
       "      <td>4</td>\n",
       "      <td>891700426</td>\n",
       "    </tr>\n",
       "    <tr>\n",
       "      <th>4</th>\n",
       "      <td>1</td>\n",
       "      <td>Toy Story (1995)</td>\n",
       "      <td>01-Jan-1995</td>\n",
       "      <td>NaN</td>\n",
       "      <td>http://us.imdb.com/M/title-exact?Toy%20Story%2...</td>\n",
       "      <td>1995</td>\n",
       "      <td>66</td>\n",
       "      <td>3</td>\n",
       "      <td>883601324</td>\n",
       "    </tr>\n",
       "  </tbody>\n",
       "</table>\n",
       "</div>"
      ],
      "text/plain": [
       "   item_id             title release_date  video_release_date  \\\n",
       "0        1  Toy Story (1995)  01-Jan-1995                 NaN   \n",
       "1        1  Toy Story (1995)  01-Jan-1995                 NaN   \n",
       "2        1  Toy Story (1995)  01-Jan-1995                 NaN   \n",
       "3        1  Toy Story (1995)  01-Jan-1995                 NaN   \n",
       "4        1  Toy Story (1995)  01-Jan-1995                 NaN   \n",
       "\n",
       "                                            imdb_url  release_year  user_id  \\\n",
       "0  http://us.imdb.com/M/title-exact?Toy%20Story%2...          1995      308   \n",
       "1  http://us.imdb.com/M/title-exact?Toy%20Story%2...          1995      287   \n",
       "2  http://us.imdb.com/M/title-exact?Toy%20Story%2...          1995      148   \n",
       "3  http://us.imdb.com/M/title-exact?Toy%20Story%2...          1995      280   \n",
       "4  http://us.imdb.com/M/title-exact?Toy%20Story%2...          1995       66   \n",
       "\n",
       "   rating  timestamp  \n",
       "0       4  887736532  \n",
       "1       5  875334088  \n",
       "2       4  877019411  \n",
       "3       4  891700426  \n",
       "4       3  883601324  "
      ]
     },
     "execution_count": 9,
     "metadata": {},
     "output_type": "execute_result"
    }
   ],
   "source": [
    "df_all_ratings.head()"
   ]
  },
  {
   "cell_type": "markdown",
   "metadata": {},
   "source": [
    "## Data Preprocessing\n",
    "\n",
    "To understand well the distribution of the data, the following statistics are computed:\n",
    "- the number of users\n",
    "- the number of items\n",
    "- the rating distribution"
   ]
  },
  {
   "cell_type": "code",
   "execution_count": 10,
   "metadata": {},
   "outputs": [
    {
     "data": {
      "text/plain": [
       "943"
      ]
     },
     "execution_count": 10,
     "metadata": {},
     "output_type": "execute_result"
    }
   ],
   "source": [
    "# Number of users\n",
    "max_user_id = df_all_ratings['user_id'].max()\n",
    "max_user_id"
   ]
  },
  {
   "cell_type": "code",
   "execution_count": 11,
   "metadata": {},
   "outputs": [
    {
     "data": {
      "text/plain": [
       "1682"
      ]
     },
     "execution_count": 11,
     "metadata": {},
     "output_type": "execute_result"
    }
   ],
   "source": [
    "# Number of items\n",
    "max_item_id = df_all_ratings['item_id'].max()\n",
    "max_item_id"
   ]
  },
  {
   "cell_type": "code",
   "execution_count": 12,
   "metadata": {},
   "outputs": [
    {
     "data": {
      "image/png": "[encoded data removed]",
      "text/plain": [
       "<Figure size 432x288 with 1 Axes>"
      ]
     },
     "metadata": {
      "needs_background": "light"
     },
     "output_type": "display_data"
    }
   ],
   "source": [
    "df_all_ratings.groupby('rating')['rating'].count().plot(kind='bar', rot=0);"
   ]
  },
  {
   "cell_type": "code",
   "execution_count": 13,
   "metadata": {},
   "outputs": [
    {
     "data": {
      "text/plain": [
       "count    100000.000000\n",
       "mean          3.529860\n",
       "std           1.125674\n",
       "min           1.000000\n",
       "25%           3.000000\n",
       "50%           4.000000\n",
       "75%           4.000000\n",
       "max           5.000000\n",
       "Name: rating, dtype: float64"
      ]
     },
     "execution_count": 13,
     "metadata": {},
     "output_type": "execute_result"
    }
   ],
   "source": [
    "# ratings\n",
    "df_all_ratings['rating'].describe()"
   ]
  },
  {
   "cell_type": "markdown",
   "metadata": {},
   "source": [
    "### Add Popularity"
   ]
  },
  {
   "cell_type": "code",
   "execution_count": 14,
   "metadata": {},
   "outputs": [],
   "source": [
    "popularity = df_all_ratings.groupby('item_id').size().reset_index(name='popularity')"
   ]
  },
  {
   "cell_type": "markdown",
   "metadata": {},
   "source": [
    "Enrich the ratings data with the popularity as an additional metadata."
   ]
  },
  {
   "cell_type": "code",
   "execution_count": 15,
   "metadata": {},
   "outputs": [
    {
     "data": {
      "text/html": [
       "<div>\n",
       "<style scoped>\n",
       "    .dataframe tbody tr th:only-of-type {\n",
       "        vertical-align: middle;\n",
       "    }\n",
       "\n",
       "    .dataframe tbody tr th {\n",
       "        vertical-align: top;\n",
       "    }\n",
       "\n",
       "    .dataframe thead th {\n",
       "        text-align: right;\n",
       "    }\n",
       "</style>\n",
       "<table border=\"1\" class=\"dataframe\">\n",
       "  <thead>\n",
       "    <tr style=\"text-align: right;\">\n",
       "      <th></th>\n",
       "      <th>item_id</th>\n",
       "      <th>title</th>\n",
       "      <th>release_date</th>\n",
       "      <th>video_release_date</th>\n",
       "      <th>imdb_url</th>\n",
       "      <th>release_year</th>\n",
       "      <th>user_id</th>\n",
       "      <th>rating</th>\n",
       "      <th>timestamp</th>\n",
       "      <th>popularity</th>\n",
       "    </tr>\n",
       "  </thead>\n",
       "  <tbody>\n",
       "    <tr>\n",
       "      <th>0</th>\n",
       "      <td>1</td>\n",
       "      <td>Toy Story (1995)</td>\n",
       "      <td>01-Jan-1995</td>\n",
       "      <td>NaN</td>\n",
       "      <td>http://us.imdb.com/M/title-exact?Toy%20Story%2...</td>\n",
       "      <td>1995</td>\n",
       "      <td>308</td>\n",
       "      <td>4</td>\n",
       "      <td>887736532</td>\n",
       "      <td>452</td>\n",
       "    </tr>\n",
       "    <tr>\n",
       "      <th>1</th>\n",
       "      <td>1</td>\n",
       "      <td>Toy Story (1995)</td>\n",
       "      <td>01-Jan-1995</td>\n",
       "      <td>NaN</td>\n",
       "      <td>http://us.imdb.com/M/title-exact?Toy%20Story%2...</td>\n",
       "      <td>1995</td>\n",
       "      <td>287</td>\n",
       "      <td>5</td>\n",
       "      <td>875334088</td>\n",
       "      <td>452</td>\n",
       "    </tr>\n",
       "    <tr>\n",
       "      <th>2</th>\n",
       "      <td>1</td>\n",
       "      <td>Toy Story (1995)</td>\n",
       "      <td>01-Jan-1995</td>\n",
       "      <td>NaN</td>\n",
       "      <td>http://us.imdb.com/M/title-exact?Toy%20Story%2...</td>\n",
       "      <td>1995</td>\n",
       "      <td>148</td>\n",
       "      <td>4</td>\n",
       "      <td>877019411</td>\n",
       "      <td>452</td>\n",
       "    </tr>\n",
       "    <tr>\n",
       "      <th>3</th>\n",
       "      <td>1</td>\n",
       "      <td>Toy Story (1995)</td>\n",
       "      <td>01-Jan-1995</td>\n",
       "      <td>NaN</td>\n",
       "      <td>http://us.imdb.com/M/title-exact?Toy%20Story%2...</td>\n",
       "      <td>1995</td>\n",
       "      <td>280</td>\n",
       "      <td>4</td>\n",
       "      <td>891700426</td>\n",
       "      <td>452</td>\n",
       "    </tr>\n",
       "    <tr>\n",
       "      <th>4</th>\n",
       "      <td>1</td>\n",
       "      <td>Toy Story (1995)</td>\n",
       "      <td>01-Jan-1995</td>\n",
       "      <td>NaN</td>\n",
       "      <td>http://us.imdb.com/M/title-exact?Toy%20Story%2...</td>\n",
       "      <td>1995</td>\n",
       "      <td>66</td>\n",
       "      <td>3</td>\n",
       "      <td>883601324</td>\n",
       "      <td>452</td>\n",
       "    </tr>\n",
       "  </tbody>\n",
       "</table>\n",
       "</div>"
      ],
      "text/plain": [
       "   item_id             title release_date  video_release_date  \\\n",
       "0        1  Toy Story (1995)  01-Jan-1995                 NaN   \n",
       "1        1  Toy Story (1995)  01-Jan-1995                 NaN   \n",
       "2        1  Toy Story (1995)  01-Jan-1995                 NaN   \n",
       "3        1  Toy Story (1995)  01-Jan-1995                 NaN   \n",
       "4        1  Toy Story (1995)  01-Jan-1995                 NaN   \n",
       "\n",
       "                                            imdb_url  release_year  user_id  \\\n",
       "0  http://us.imdb.com/M/title-exact?Toy%20Story%2...          1995      308   \n",
       "1  http://us.imdb.com/M/title-exact?Toy%20Story%2...          1995      287   \n",
       "2  http://us.imdb.com/M/title-exact?Toy%20Story%2...          1995      148   \n",
       "3  http://us.imdb.com/M/title-exact?Toy%20Story%2...          1995      280   \n",
       "4  http://us.imdb.com/M/title-exact?Toy%20Story%2...          1995       66   \n",
       "\n",
       "   rating  timestamp  popularity  \n",
       "0       4  887736532         452  \n",
       "1       5  875334088         452  \n",
       "2       4  877019411         452  \n",
       "3       4  891700426         452  \n",
       "4       3  883601324         452  "
      ]
     },
     "execution_count": 15,
     "metadata": {},
     "output_type": "execute_result"
    }
   ],
   "source": [
    "df_all_ratings = pd.merge(df_all_ratings, popularity)\n",
    "df_all_ratings.head()"
   ]
  },
  {
   "cell_type": "code",
   "execution_count": 16,
   "metadata": {},
   "outputs": [
    {
     "data": {
      "text/html": [
       "<div>\n",
       "<style scoped>\n",
       "    .dataframe tbody tr th:only-of-type {\n",
       "        vertical-align: middle;\n",
       "    }\n",
       "\n",
       "    .dataframe tbody tr th {\n",
       "        vertical-align: top;\n",
       "    }\n",
       "\n",
       "    .dataframe thead th {\n",
       "        text-align: right;\n",
       "    }\n",
       "</style>\n",
       "<table border=\"1\" class=\"dataframe\">\n",
       "  <thead>\n",
       "    <tr style=\"text-align: right;\">\n",
       "      <th></th>\n",
       "      <th>item_id</th>\n",
       "      <th>title</th>\n",
       "      <th>release_date</th>\n",
       "      <th>video_release_date</th>\n",
       "      <th>imdb_url</th>\n",
       "      <th>release_year</th>\n",
       "      <th>user_id</th>\n",
       "      <th>rating</th>\n",
       "      <th>timestamp</th>\n",
       "      <th>popularity</th>\n",
       "    </tr>\n",
       "  </thead>\n",
       "  <tbody>\n",
       "    <tr>\n",
       "      <th>6402</th>\n",
       "      <td>50</td>\n",
       "      <td>Star Wars (1977)</td>\n",
       "      <td>01-Jan-1977</td>\n",
       "      <td>NaN</td>\n",
       "      <td>http://us.imdb.com/M/title-exact?Star%20Wars%2...</td>\n",
       "      <td>1977</td>\n",
       "      <td>290</td>\n",
       "      <td>5</td>\n",
       "      <td>880473582</td>\n",
       "      <td>583</td>\n",
       "    </tr>\n",
       "    <tr>\n",
       "      <th>6403</th>\n",
       "      <td>50</td>\n",
       "      <td>Star Wars (1977)</td>\n",
       "      <td>01-Jan-1977</td>\n",
       "      <td>NaN</td>\n",
       "      <td>http://us.imdb.com/M/title-exact?Star%20Wars%2...</td>\n",
       "      <td>1977</td>\n",
       "      <td>79</td>\n",
       "      <td>4</td>\n",
       "      <td>891271545</td>\n",
       "      <td>583</td>\n",
       "    </tr>\n",
       "    <tr>\n",
       "      <th>6404</th>\n",
       "      <td>50</td>\n",
       "      <td>Star Wars (1977)</td>\n",
       "      <td>01-Jan-1977</td>\n",
       "      <td>NaN</td>\n",
       "      <td>http://us.imdb.com/M/title-exact?Star%20Wars%2...</td>\n",
       "      <td>1977</td>\n",
       "      <td>2</td>\n",
       "      <td>5</td>\n",
       "      <td>888552084</td>\n",
       "      <td>583</td>\n",
       "    </tr>\n",
       "    <tr>\n",
       "      <th>6405</th>\n",
       "      <td>50</td>\n",
       "      <td>Star Wars (1977)</td>\n",
       "      <td>01-Jan-1977</td>\n",
       "      <td>NaN</td>\n",
       "      <td>http://us.imdb.com/M/title-exact?Star%20Wars%2...</td>\n",
       "      <td>1977</td>\n",
       "      <td>8</td>\n",
       "      <td>5</td>\n",
       "      <td>879362124</td>\n",
       "      <td>583</td>\n",
       "    </tr>\n",
       "    <tr>\n",
       "      <th>6406</th>\n",
       "      <td>50</td>\n",
       "      <td>Star Wars (1977)</td>\n",
       "      <td>01-Jan-1977</td>\n",
       "      <td>NaN</td>\n",
       "      <td>http://us.imdb.com/M/title-exact?Star%20Wars%2...</td>\n",
       "      <td>1977</td>\n",
       "      <td>274</td>\n",
       "      <td>5</td>\n",
       "      <td>878944679</td>\n",
       "      <td>583</td>\n",
       "    </tr>\n",
       "    <tr>\n",
       "      <th>6407</th>\n",
       "      <td>50</td>\n",
       "      <td>Star Wars (1977)</td>\n",
       "      <td>01-Jan-1977</td>\n",
       "      <td>NaN</td>\n",
       "      <td>http://us.imdb.com/M/title-exact?Star%20Wars%2...</td>\n",
       "      <td>1977</td>\n",
       "      <td>227</td>\n",
       "      <td>4</td>\n",
       "      <td>879035347</td>\n",
       "      <td>583</td>\n",
       "    </tr>\n",
       "    <tr>\n",
       "      <th>6408</th>\n",
       "      <td>50</td>\n",
       "      <td>Star Wars (1977)</td>\n",
       "      <td>01-Jan-1977</td>\n",
       "      <td>NaN</td>\n",
       "      <td>http://us.imdb.com/M/title-exact?Star%20Wars%2...</td>\n",
       "      <td>1977</td>\n",
       "      <td>99</td>\n",
       "      <td>5</td>\n",
       "      <td>885679998</td>\n",
       "      <td>583</td>\n",
       "    </tr>\n",
       "    <tr>\n",
       "      <th>6409</th>\n",
       "      <td>50</td>\n",
       "      <td>Star Wars (1977)</td>\n",
       "      <td>01-Jan-1977</td>\n",
       "      <td>NaN</td>\n",
       "      <td>http://us.imdb.com/M/title-exact?Star%20Wars%2...</td>\n",
       "      <td>1977</td>\n",
       "      <td>305</td>\n",
       "      <td>5</td>\n",
       "      <td>886321799</td>\n",
       "      <td>583</td>\n",
       "    </tr>\n",
       "    <tr>\n",
       "      <th>6410</th>\n",
       "      <td>50</td>\n",
       "      <td>Star Wars (1977)</td>\n",
       "      <td>01-Jan-1977</td>\n",
       "      <td>NaN</td>\n",
       "      <td>http://us.imdb.com/M/title-exact?Star%20Wars%2...</td>\n",
       "      <td>1977</td>\n",
       "      <td>108</td>\n",
       "      <td>4</td>\n",
       "      <td>879879739</td>\n",
       "      <td>583</td>\n",
       "    </tr>\n",
       "    <tr>\n",
       "      <th>6411</th>\n",
       "      <td>50</td>\n",
       "      <td>Star Wars (1977)</td>\n",
       "      <td>01-Jan-1977</td>\n",
       "      <td>NaN</td>\n",
       "      <td>http://us.imdb.com/M/title-exact?Star%20Wars%2...</td>\n",
       "      <td>1977</td>\n",
       "      <td>63</td>\n",
       "      <td>4</td>\n",
       "      <td>875747292</td>\n",
       "      <td>583</td>\n",
       "    </tr>\n",
       "  </tbody>\n",
       "</table>\n",
       "</div>"
      ],
      "text/plain": [
       "      item_id             title release_date  video_release_date  \\\n",
       "6402       50  Star Wars (1977)  01-Jan-1977                 NaN   \n",
       "6403       50  Star Wars (1977)  01-Jan-1977                 NaN   \n",
       "6404       50  Star Wars (1977)  01-Jan-1977                 NaN   \n",
       "6405       50  Star Wars (1977)  01-Jan-1977                 NaN   \n",
       "6406       50  Star Wars (1977)  01-Jan-1977                 NaN   \n",
       "6407       50  Star Wars (1977)  01-Jan-1977                 NaN   \n",
       "6408       50  Star Wars (1977)  01-Jan-1977                 NaN   \n",
       "6409       50  Star Wars (1977)  01-Jan-1977                 NaN   \n",
       "6410       50  Star Wars (1977)  01-Jan-1977                 NaN   \n",
       "6411       50  Star Wars (1977)  01-Jan-1977                 NaN   \n",
       "\n",
       "                                               imdb_url  release_year  \\\n",
       "6402  http://us.imdb.com/M/title-exact?Star%20Wars%2...          1977   \n",
       "6403  http://us.imdb.com/M/title-exact?Star%20Wars%2...          1977   \n",
       "6404  http://us.imdb.com/M/title-exact?Star%20Wars%2...          1977   \n",
       "6405  http://us.imdb.com/M/title-exact?Star%20Wars%2...          1977   \n",
       "6406  http://us.imdb.com/M/title-exact?Star%20Wars%2...          1977   \n",
       "6407  http://us.imdb.com/M/title-exact?Star%20Wars%2...          1977   \n",
       "6408  http://us.imdb.com/M/title-exact?Star%20Wars%2...          1977   \n",
       "6409  http://us.imdb.com/M/title-exact?Star%20Wars%2...          1977   \n",
       "6410  http://us.imdb.com/M/title-exact?Star%20Wars%2...          1977   \n",
       "6411  http://us.imdb.com/M/title-exact?Star%20Wars%2...          1977   \n",
       "\n",
       "      user_id  rating  timestamp  popularity  \n",
       "6402      290       5  880473582         583  \n",
       "6403       79       4  891271545         583  \n",
       "6404        2       5  888552084         583  \n",
       "6405        8       5  879362124         583  \n",
       "6406      274       5  878944679         583  \n",
       "6407      227       4  879035347         583  \n",
       "6408       99       5  885679998         583  \n",
       "6409      305       5  886321799         583  \n",
       "6410      108       4  879879739         583  \n",
       "6411       63       4  875747292         583  "
      ]
     },
     "execution_count": 16,
     "metadata": {},
     "output_type": "execute_result"
    }
   ],
   "source": [
    "df_all_ratings.nlargest(10, 'popularity')"
   ]
  },
  {
   "cell_type": "markdown",
   "metadata": {},
   "source": [
    "Later in the analysis we will assume that this popularity does not come from the ratings themselves but from an external metadata, e.g. box office numbers in the month after the release in movie theaters."
   ]
  },
  {
   "cell_type": "markdown",
   "metadata": {},
   "source": [
    "### Train Test Validation Split"
   ]
  },
  {
   "cell_type": "code",
   "execution_count": 17,
   "metadata": {},
   "outputs": [
    {
     "name": "stdout",
     "output_type": "stream",
     "text": [
      "Total rating rows count: 100000 \n",
      "Total training rows count: 80000 \n",
      "Total validation rows count: 16000 \n",
      "Total test rows count: 20000 \n"
     ]
    }
   ],
   "source": [
    "# Split All ratings into train_val and test\n",
    "ratings_train_val, ratings_test = train_test_split(df_all_ratings, test_size=0.2, random_state=0)\n",
    "# Split train_val into training and validation set\n",
    "ratings_train, ratings_val = train_test_split(ratings_train_val, test_size=0.2, random_state=0)\n",
    "\n",
    "print('Total rating rows count: {0} '.format(len(df_all_ratings)))\n",
    "print('Total training rows count: {0} '.format(len(ratings_train_val)))\n",
    "print('Total validation rows count: {0} '.format(len(ratings_val)))\n",
    "print('Total test rows count: {0} '.format(len(ratings_test)))\n"
   ]
  },
  {
   "cell_type": "code",
   "execution_count": 18,
   "metadata": {},
   "outputs": [
    {
     "name": "stdout",
     "output_type": "stream",
     "text": [
      "<class 'pandas.core.frame.DataFrame'>\n",
      "Int64Index: 64000 entries, 39110 to 59493\n",
      "Data columns (total 10 columns):\n",
      " #   Column              Non-Null Count  Dtype  \n",
      "---  ------              --------------  -----  \n",
      " 0   item_id             64000 non-null  int64  \n",
      " 1   title               64000 non-null  object \n",
      " 2   release_date        63995 non-null  object \n",
      " 3   video_release_date  0 non-null      float64\n",
      " 4   imdb_url            63992 non-null  object \n",
      " 5   release_year        64000 non-null  int64  \n",
      " 6   user_id             64000 non-null  int64  \n",
      " 7   rating              64000 non-null  int64  \n",
      " 8   timestamp           64000 non-null  int64  \n",
      " 9   popularity          64000 non-null  int64  \n",
      "dtypes: float64(1), int64(6), object(3)\n",
      "memory usage: 5.4+ MB\n"
     ]
    }
   ],
   "source": [
    "ratings_train.info()"
   ]
  },
  {
   "cell_type": "markdown",
   "metadata": {},
   "source": [
    "# Explicit feedback: supervised ratings prediction\n",
    "\n",
    "For each pair of (user, item) try to predict the rating the user would give to the item.\n",
    "\n",
    "This is the classical setup for building recommender systems from offline data with explicit supervision signal. "
   ]
  },
  {
   "cell_type": "markdown",
   "metadata": {},
   "source": [
    "## Predictive ratings  as a regression problem\n",
    "\n",
    "The following code implements the following architecture:\n",
    "\n",
    "![alt text](images/rec_archi_1.svg \"Title\")\n"
   ]
  },
  {
   "cell_type": "markdown",
   "metadata": {},
   "source": [
    "### Matrix Factorization"
   ]
  },
  {
   "cell_type": "code",
   "execution_count": 19,
   "metadata": {},
   "outputs": [
    {
     "name": "stdout",
     "output_type": "stream",
     "text": [
      "WARNING:tensorflow:From /opt/conda/lib/python3.7/site-packages/tensorflow/python/framework/op_def_library.py:263: colocate_with (from tensorflow.python.framework.ops) is deprecated and will be removed in a future version.\n",
      "Instructions for updating:\n",
      "Colocations handled automatically by placer.\n",
      "WARNING:tensorflow:From /opt/conda/lib/python3.7/site-packages/tensorflow/python/ops/math_ops.py:3066: to_int32 (from tensorflow.python.ops.math_ops) is deprecated and will be removed in a future version.\n",
      "Instructions for updating:\n",
      "Use tf.cast instead.\n"
     ]
    }
   ],
   "source": [
    "embedding_size = 30 # embedding size\n",
    "reg_param = 0.01 # regularization parameter lambda\n",
    "learning_rate = 0.01 # learning rate \n",
    "\n",
    "\n",
    "# create tensorflow graph\n",
    "g = tf.Graph()\n",
    "with g.as_default():\n",
    "    # setting up random seed\n",
    "    tf.set_random_seed(1234)\n",
    "    \n",
    "    # placeholders\n",
    "    users = tf.placeholder(shape=[None], dtype=tf.int64)\n",
    "    items = tf.placeholder(shape=[None], dtype=tf.int64)\n",
    "    ratings = tf.placeholder(shape=[None], dtype=tf.float32)\n",
    "    \n",
    "    # variables\n",
    "    with tf.variable_scope(\"embedding\"):\n",
    "        user_weight = tf.get_variable(\"user_w\"\n",
    "                                      , shape=[max_user_id + 1, embedding_size]\n",
    "                                      , dtype=tf.float32\n",
    "                                      , initializer=layers.xavier_initializer())\n",
    "\n",
    "        item_weight = tf.get_variable(\"item_w\"\n",
    "                                       , shape=[max_item_id + 1, embedding_size]\n",
    "                                       , dtype=tf.float32\n",
    "                                       , initializer=layers.xavier_initializer())\n",
    "    # prediction\n",
    "    with tf.name_scope(\"inference\"):\n",
    "        user_embedding = tf.nn.embedding_lookup(user_weight, users)\n",
    "        item_embedding = tf.nn.embedding_lookup(item_weight, items)\n",
    "        pred = tf.reduce_sum(tf.multiply(user_embedding, item_embedding), 1) \n",
    "        \n",
    "    # loss \n",
    "    with tf.name_scope(\"loss\"):\n",
    "        reg_loss = tf.contrib.layers.apply_regularization(layers.l2_regularizer(scale=reg_param),\n",
    "                                               weights_list=[user_weight, item_weight])\n",
    "        loss = tf.nn.l2_loss(pred - ratings) + reg_loss\n",
    "        train_ops = tf.train.AdamOptimizer(learning_rate=learning_rate).minimize(loss)\n",
    "        rmse = tf.sqrt(tf.reduce_mean(tf.pow(pred - ratings, 2)))\n",
    "\n",
    "        "
   ]
  },
  {
   "cell_type": "code",
   "execution_count": 20,
   "metadata": {},
   "outputs": [],
   "source": [
    "\n",
    "def train_model():\n",
    "    # Training \n",
    "    epochs = 1000 # number of iterations \n",
    "    losses_train = []\n",
    "    losses_val = []\n",
    "\n",
    "\n",
    "\n",
    "    with tf.Session(graph=g) as sess:\n",
    "        # initializer\n",
    "        sess.run(tf.global_variables_initializer())\n",
    "\n",
    "\n",
    "        train_input_dict = {  users: ratings_train['user_id']\n",
    "                            , items: ratings_train['item_id']\n",
    "                            , ratings: ratings_train['rating']}\n",
    "        val_input_dict =  {  users: ratings_val['user_id']\n",
    "                            , items: ratings_val['item_id']\n",
    "                            , ratings: ratings_val['rating']}\n",
    "\n",
    "        test_input_dict =  {  users: ratings_test['user_id']\n",
    "                            , items: ratings_test['item_id']\n",
    "                            , ratings: ratings_test['rating']}\n",
    "\n",
    "        def check_overfit(validation_loss):\n",
    "            n = len(validation_loss)\n",
    "            if n < 5:\n",
    "                return False\n",
    "            count = 0 \n",
    "            for i in range(n-4, n):\n",
    "                if validation_loss[i] < validation_loss[i-1]:\n",
    "                    count += 1\n",
    "                if count >=2:\n",
    "                    return False\n",
    "            return True\n",
    "\n",
    "        for i in range(epochs):\n",
    "            # run the training operation\n",
    "            sess.run([train_ops], feed_dict=train_input_dict)\n",
    "\n",
    "            # show intermediate results \n",
    "            if i % 5 == 0:\n",
    "                loss_train = sess.run(loss, feed_dict=train_input_dict)\n",
    "                loss_val = sess.run(loss, feed_dict=val_input_dict)\n",
    "                losses_train.append(loss_train)\n",
    "                losses_val.append(loss_val)\n",
    "\n",
    "\n",
    "                # check early stopping \n",
    "                if(check_overfit(losses_val)):\n",
    "                    print('overfit !')\n",
    "                    break\n",
    "\n",
    "                print(\"iteration : {0} train loss: {1:.3f} , valid loss {2:.3f}\".format(i,loss_train, loss_val))\n",
    "\n",
    "        # calculate RMSE on the test dataset\n",
    "        print('RMSE on test dataset : {0:.4f}'.format(sess.run(rmse, feed_dict=test_input_dict)))\n",
    "\n",
    "        plt.plot(losses_train, label='train')\n",
    "        plt.plot(losses_val, label='validation')\n",
    "        #plt.ylim(0, 50000)\n",
    "        plt.legend(loc='best')\n",
    "        plt.title('Loss');"
   ]
  },
  {
   "cell_type": "code",
   "execution_count": 21,
   "metadata": {},
   "outputs": [
    {
     "name": "stdout",
     "output_type": "stream",
     "text": [
      "iteration : 0 train loss: 438955.062 , valid loss 109274.805\n",
      "iteration : 5 train loss: 430119.375 , valid loss 107681.445\n",
      "iteration : 10 train loss: 401145.875 , valid loss 100981.695\n",
      "iteration : 15 train loss: 345096.281 , valid loss 87444.453\n",
      "iteration : 20 train loss: 262872.250 , valid loss 67228.492\n",
      "iteration : 25 train loss: 166455.234 , valid loss 43223.109\n",
      "iteration : 30 train loss: 81420.047 , valid loss 21761.318\n",
      "iteration : 35 train loss: 38146.664 , valid loss 10548.826\n",
      "iteration : 40 train loss: 37472.969 , valid loss 10132.516\n",
      "iteration : 45 train loss: 39926.750 , valid loss 10855.713\n",
      "iteration : 50 train loss: 31300.887 , valid loss 9038.131\n",
      "iteration : 55 train loss: 25830.363 , valid loss 8010.939\n",
      "iteration : 60 train loss: 25812.857 , valid loss 8221.631\n",
      "iteration : 65 train loss: 25626.348 , valid loss 8261.292\n",
      "iteration : 70 train loss: 24081.348 , valid loss 7883.967\n",
      "iteration : 75 train loss: 22998.742 , valid loss 7608.098\n",
      "iteration : 80 train loss: 22692.930 , valid loss 7565.448\n",
      "iteration : 85 train loss: 22296.057 , valid loss 7557.210\n",
      "iteration : 90 train loss: 21739.752 , valid loss 7546.205\n",
      "iteration : 95 train loss: 21318.230 , valid loss 7574.492\n",
      "iteration : 100 train loss: 20961.037 , valid loss 7605.827\n",
      "overfit !\n",
      "RMSE on test dataset : 0.9642\n"
     ]
    },
    {
     "data": {
      "image/png": "[encoded data removed]",
      "text/plain": [
       "<Figure size 432x288 with 1 Axes>"
      ]
     },
     "metadata": {
      "needs_background": "light"
     },
     "output_type": "display_data"
    }
   ],
   "source": [
    "train_model()"
   ]
  },
  {
   "cell_type": "markdown",
   "metadata": {},
   "source": [
    "### Matrix Factorization with Biases"
   ]
  },
  {
   "cell_type": "code",
   "execution_count": 22,
   "metadata": {},
   "outputs": [],
   "source": [
    "embedding_size = 30 # embedding size\n",
    "reg_param = 0.01 # regularization parameter lambda\n",
    "learning_rate = 0.01 # learning rate \n",
    "\n",
    "\n",
    "# create tensorflow graph\n",
    "g = tf.Graph()\n",
    "with g.as_default():\n",
    "    \n",
    "    tf.set_random_seed(1234)\n",
    "    \n",
    "    # placeholders\n",
    "    users = tf.placeholder(shape=[None], dtype=tf.int64)\n",
    "    items = tf.placeholder(shape=[None], dtype=tf.int64)\n",
    "    ratings = tf.placeholder(shape=[None], dtype=tf.float32)\n",
    "    \n",
    "    # variables\n",
    "    with tf.variable_scope(\"embedding\"):\n",
    "        user_weight = tf.get_variable(\"user_w\"\n",
    "                                      , shape=[max_user_id + 1, embedding_size]\n",
    "                                      , dtype=tf.float32\n",
    "                                      , initializer=layers.xavier_initializer())\n",
    "\n",
    "        item_weight = tf.get_variable(\"item_w\"\n",
    "                                       , shape=[max_item_id + 1, embedding_size]\n",
    "                                       , dtype=tf.float32\n",
    "                                       , initializer=layers.xavier_initializer())\n",
    "        \n",
    "        user_bias = tf.get_variable(\"user_b\"\n",
    "                                , shape=[max_user_id + 1]\n",
    "                                , dtype=tf.float32\n",
    "                                , initializer=tf.zeros_initializer)\n",
    "        \n",
    "        item_bias = tf.get_variable(\"item_b\"\n",
    "                                 , shape=[max_item_id + 1]\n",
    "                                 , dtype=tf.float32\n",
    "                                 , initializer=tf.zeros_initializer)\n",
    "        \n",
    "    # prediction\n",
    "    with tf.name_scope(\"inference\"):\n",
    "        user_embedding = tf.nn.embedding_lookup(user_weight, users)\n",
    "        item_embedding = tf.nn.embedding_lookup(item_weight, items)\n",
    "        user_b = tf.nn.embedding_lookup(user_bias, users)\n",
    "        item_b = tf.nn.embedding_lookup(item_bias, items)\n",
    "        pred = tf.reduce_sum(tf.multiply(user_embedding, item_embedding), 1) + user_b + item_b\n",
    "        \n",
    "    # loss \n",
    "    with tf.name_scope(\"loss\"):\n",
    "        reg_loss = tf.contrib.layers.apply_regularization(layers.l2_regularizer(scale=reg_param),\n",
    "                                               weights_list=[user_weight, item_weight])\n",
    "        loss = tf.nn.l2_loss(pred - ratings) + reg_loss\n",
    "        train_ops = tf.train.AdamOptimizer(learning_rate=learning_rate).minimize(loss)\n",
    "        rmse = tf.sqrt(tf.reduce_mean(tf.pow(pred - ratings, 2)))\n",
    "\n",
    "   "
   ]
  },
  {
   "cell_type": "code",
   "execution_count": 23,
   "metadata": {},
   "outputs": [
    {
     "name": "stdout",
     "output_type": "stream",
     "text": [
      "iteration : 0 train loss: 434451.188 , valid loss 108152.555\n",
      "iteration : 5 train loss: 403790.656 , valid loss 101102.711\n",
      "iteration : 10 train loss: 355479.656 , valid loss 89540.078\n",
      "iteration : 15 train loss: 285449.781 , valid loss 72448.688\n",
      "iteration : 20 train loss: 198575.859 , valid loss 50982.105\n",
      "iteration : 25 train loss: 111163.320 , valid loss 29129.332\n",
      "iteration : 30 train loss: 50093.465 , valid loss 13611.054\n",
      "iteration : 35 train loss: 33727.254 , valid loss 9234.546\n",
      "iteration : 40 train loss: 38895.711 , valid loss 10511.692\n",
      "iteration : 45 train loss: 34300.270 , valid loss 9630.750\n",
      "iteration : 50 train loss: 26736.699 , valid loss 8091.477\n",
      "iteration : 55 train loss: 25132.514 , valid loss 7959.960\n",
      "iteration : 60 train loss: 25422.406 , valid loss 8179.477\n",
      "iteration : 65 train loss: 24283.764 , valid loss 7953.402\n",
      "iteration : 70 train loss: 22859.633 , valid loss 7620.200\n",
      "iteration : 75 train loss: 22283.584 , valid loss 7516.659\n",
      "iteration : 80 train loss: 21930.391 , valid loss 7519.735\n",
      "iteration : 85 train loss: 21348.543 , valid loss 7511.424\n",
      "iteration : 90 train loss: 20815.725 , valid loss 7532.253\n",
      "overfit !\n",
      "RMSE on test dataset : 0.9624\n"
     ]
    },
    {
     "data": {
      "image/png": "[encoded data removed]",
      "text/plain": [
       "<Figure size 432x288 with 1 Axes>"
      ]
     },
     "metadata": {
      "needs_background": "light"
     },
     "output_type": "display_data"
    }
   ],
   "source": [
    "train_model()"
   ]
  },
  {
   "cell_type": "markdown",
   "metadata": {},
   "source": [
    "## A Deep recommender model\n",
    "\n",
    "We can use deep learning models with multiple layers ( fully connected and dropout ) for the recommendation system.\n",
    "\n",
    "![alt text](images/rec_archi_2.svg \"Title\")\n",
    "\n",
    "\n",
    "To build this model we will need a new kind of layer:"
   ]
  },
  {
   "cell_type": "code",
   "execution_count": 24,
   "metadata": {},
   "outputs": [
    {
     "name": "stdout",
     "output_type": "stream",
     "text": [
      "Tensor(\"embedding/user_embedding:0\", shape=(?, 50), dtype=float32)\n",
      "Tensor(\"embedding/item_embedding:0\", shape=(?, 50), dtype=float32)\n",
      "Tensor(\"concatenation/concat:0\", shape=(?, 100), dtype=float32)\n",
      "Tensor(\"fc_1/hidden_output:0\", shape=(?, 64), dtype=float32)\n",
      "WARNING:tensorflow:From <ipython-input-24-39ba91ba4057>:60: calling dropout (from tensorflow.python.ops.nn_ops) with keep_prob is deprecated and will be removed in a future version.\n",
      "Instructions for updating:\n",
      "Please use `rate` instead of `keep_prob`. Rate should be set to `rate = 1 - keep_prob`.\n",
      "Tensor(\"dropout/hidden_output_drop/mul:0\", shape=(?, 64), dtype=float32)\n",
      "Tensor(\"fc_2/pred:0\", shape=(?, 1), dtype=float32)\n"
     ]
    }
   ],
   "source": [
    "embedding_size = 50\n",
    "reg_param = 0.01\n",
    "learning_rate = 0.01\n",
    "n_users = max_user_id + 1\n",
    "n_items = max_item_id + 1\n",
    "\n",
    "g = tf.Graph()\n",
    "with g.as_default():\n",
    "    \n",
    "    tf.set_random_seed(1234)\n",
    "\n",
    "    users = tf.placeholder(shape=[None,1], dtype=tf.int64, name='input_users')\n",
    "    items = tf.placeholder(shape=[None,1], dtype=tf.int64, name='input_items')\n",
    "    ratings = tf.placeholder(shape=[None,1], dtype=tf.float32, name='input_ratings')\n",
    "    \n",
    "    l2_loss = tf.constant(0.0)\n",
    "    \n",
    "    # embeddding layer\n",
    "    with tf.variable_scope(\"embedding\"):\n",
    "        user_weights = tf.get_variable(\"user_w\"\n",
    "                                      , shape=[n_users, embedding_size]\n",
    "                                      , dtype=tf.float32\n",
    "                                      , initializer=layers.xavier_initializer())\n",
    "        \n",
    "        item_weights = tf.get_variable(\"item_w\"\n",
    "                                       , shape=[n_items, embedding_size]\n",
    "                                       , dtype=tf.float32\n",
    "                                       , initializer=layers.xavier_initializer())\n",
    "        \n",
    "        user_embedding = tf.squeeze(tf.nn.embedding_lookup(user_weights, users),axis=1, name='user_embedding')\n",
    "        item_embedding = tf.squeeze(tf.nn.embedding_lookup(item_weights, items),axis=1, name='item_embedding')\n",
    "        \n",
    "        l2_loss += tf.nn.l2_loss(user_weights)\n",
    "        l2_loss += tf.nn.l2_loss(item_weights)\n",
    "        \n",
    "        \n",
    "        print(user_embedding)\n",
    "        print(item_embedding)\n",
    "        \n",
    "    \n",
    "    # combine inputs\n",
    "    with tf.name_scope('concatenation'):\n",
    "        input_vecs = tf.concat([user_embedding, item_embedding], axis=1)\n",
    "        print(input_vecs)\n",
    "        \n",
    "    # fc-1\n",
    "    num_hidden = 64\n",
    "    with tf.name_scope(\"fc_1\"):\n",
    "        W_fc_1 = tf.get_variable(\n",
    "            \"W_hidden\",\n",
    "            shape=[2*embedding_size, num_hidden],\n",
    "            initializer=tf.contrib.layers.xavier_initializer())\n",
    "        b_fc_1 = tf.Variable(tf.constant(0.1, shape=[num_hidden]), name=\"b\")\n",
    "        hidden_output = tf.nn.relu(tf.nn.xw_plus_b(input_vecs, W_fc_1, b_fc_1), name='hidden_output')\n",
    "        l2_loss += tf.nn.l2_loss(W_fc_1)\n",
    "        print(hidden_output)\n",
    "        \n",
    "    # dropout\n",
    "    with tf.name_scope(\"dropout\"):\n",
    "        h_drop = tf.nn.dropout(hidden_output, 0.99, name=\"hidden_output_drop\")\n",
    "        print(h_drop)\n",
    "    \n",
    "    # fc-2\n",
    "    with tf.name_scope(\"fc_2\"):\n",
    "        W_fc_2 = tf.get_variable(\n",
    "            \"W_output\",\n",
    "            shape=[num_hidden,1],\n",
    "            initializer=tf.contrib.layers.xavier_initializer())\n",
    "        b_fc_2 = tf.Variable(tf.constant(0.1, shape=[1]), name=\"b\")\n",
    "        pred = tf.nn.xw_plus_b(h_drop, W_fc_2, b_fc_2, name='pred')\n",
    "        l2_loss += tf.nn.l2_loss(W_fc_2)\n",
    "        print(pred)\n",
    "\n",
    "    # loss\n",
    "    with tf.name_scope(\"loss\"):\n",
    "        loss = tf.nn.l2_loss(pred - ratings) + reg_param * l2_loss\n",
    "        train_ops = tf.train.AdamOptimizer(learning_rate=learning_rate).minimize(loss)\n",
    "        rmse = tf.sqrt(tf.reduce_mean(tf.pow(pred - ratings, 2)))\n",
    "\n",
    "        "
   ]
  },
  {
   "cell_type": "code",
   "execution_count": 25,
   "metadata": {},
   "outputs": [],
   "source": [
    "def train_model_deep():\n",
    "    losses_train = []\n",
    "    losses_val = []\n",
    "    epochs = 1000\n",
    "\n",
    "    with tf.Session(graph=g) as sess:\n",
    "        sess.run(tf.global_variables_initializer())\n",
    "        train_input_dict = {users: ratings_train['user_id'].values.reshape([-1,1])\n",
    "            , items: ratings_train['item_id'].values.reshape([-1,1])\n",
    "            , ratings: ratings_train['rating'].values.reshape([-1,1])}\n",
    "\n",
    "        val_input_dict = {users: ratings_val['user_id'].values.reshape([-1,1])\n",
    "            , items: ratings_val['item_id'].values.reshape([-1,1])\n",
    "            , ratings: ratings_val['rating'].values.reshape([-1,1])}\n",
    "\n",
    "        test_input_dict = {users: ratings_test['user_id'].values.reshape([-1,1])\n",
    "            , items: ratings_test['item_id'].values.reshape([-1,1])\n",
    "            , ratings: ratings_test['rating'].values.reshape([-1,1])}\n",
    "\n",
    "        def check_overfit(validation_loss):\n",
    "                n = len(validation_loss)\n",
    "                if n < 5:\n",
    "                    return False\n",
    "                count = 0 \n",
    "                for i in range(n-4, n):\n",
    "                    if validation_loss[i] < validation_loss[i-1]:\n",
    "                        count += 1\n",
    "                    if count >=3:\n",
    "                        return False\n",
    "                return True\n",
    "\n",
    "\n",
    "\n",
    "        for i in range(epochs):\n",
    "            sess.run([train_ops], feed_dict=train_input_dict)\n",
    "            if i % 10 == 0:\n",
    "                loss_train = sess.run(loss, feed_dict=train_input_dict)\n",
    "                loss_val = sess.run(loss, feed_dict=val_input_dict)\n",
    "                losses_train.append(loss_train)\n",
    "                losses_val.append(loss_val)\n",
    "\n",
    "                # check early stopping \n",
    "                if(check_overfit(losses_val)):\n",
    "                    print('overfit !')\n",
    "                    break\n",
    "\n",
    "                print(\"iteration : %d train loss: %.3f , valid loss %.3f\" % (i,loss_train, loss_val))\n",
    "\n",
    "         # calculate RMSE on the test dataset\n",
    "        print('RMSE on test dataset : {0:.4f}'.format(sess.run(rmse, feed_dict=test_input_dict)))\n",
    "\n",
    "        # user and item embedding\n",
    "        user_embedding_variable = [v for v in tf.get_collection(tf.GraphKeys.TRAINABLE_VARIABLES) if v.name.endswith('embedding/user_w:0')][0]\n",
    "        item_embedding_variable = [v for v in tf.get_collection(tf.GraphKeys.TRAINABLE_VARIABLES) if v.name.endswith('embedding/item_w:0')][0]\n",
    "        user_embedding_weights, item_embedding_weights = sess.run([user_embedding_variable,item_embedding_variable])\n",
    "        \n",
    "        \n",
    "        # plot train and validation loss\n",
    "        plt.plot(losses_train, label='train')\n",
    "        plt.plot(losses_val, label='validation')\n",
    "        plt.legend(loc='best')\n",
    "        plt.title('Loss');\n",
    "        \n",
    "        return user_embedding_weights, item_embedding_weights "
   ]
  },
  {
   "cell_type": "code",
   "execution_count": 26,
   "metadata": {},
   "outputs": [
    {
     "name": "stdout",
     "output_type": "stream",
     "text": [
      "iteration : 0 train loss: 320585.312 , valid loss 79709.352\n",
      "iteration : 10 train loss: 39800.684 , valid loss 10547.440\n",
      "iteration : 20 train loss: 29583.850 , valid loss 7995.043\n",
      "iteration : 30 train loss: 26737.551 , valid loss 7325.980\n",
      "iteration : 40 train loss: 27131.520 , valid loss 7464.453\n",
      "iteration : 50 train loss: 27056.305 , valid loss 7344.873\n",
      "iteration : 60 train loss: 26558.799 , valid loss 7308.701\n",
      "iteration : 70 train loss: 26373.887 , valid loss 7251.662\n",
      "iteration : 80 train loss: 26401.137 , valid loss 7239.429\n",
      "iteration : 90 train loss: 26333.916 , valid loss 7255.240\n",
      "overfit !\n",
      "RMSE on test dataset : 0.9466\n"
     ]
    },
    {
     "data": {
      "image/png": "[encoded data removed]",
      "text/plain": [
       "<Figure size 432x288 with 1 Axes>"
      ]
     },
     "metadata": {
      "needs_background": "light"
     },
     "output_type": "display_data"
    }
   ],
   "source": [
    "user_embedding_weights, item_embedding_weights  = train_model_deep()"
   ]
  },
  {
   "cell_type": "markdown",
   "metadata": {},
   "source": [
    "### Model Embeddings"
   ]
  },
  {
   "cell_type": "code",
   "execution_count": 27,
   "metadata": {},
   "outputs": [
    {
     "name": "stdout",
     "output_type": "stream",
     "text": [
      "First item name from metadata: GoldenEye (1995)\n",
      "Embedding vector for the first item:\n",
      "[-8.13292265e-02  1.29369408e-01  2.64590010e-02  7.25499168e-02\n",
      "  9.46553797e-02 -2.34591458e-02  1.44561410e-01 -2.16630697e-02\n",
      " -1.14813708e-01  8.92936662e-02  8.70991349e-02  1.05688311e-01\n",
      " -7.13586435e-03 -2.75054071e-02 -5.57548692e-03 -6.14384152e-02\n",
      "  1.26213551e-01  1.20054789e-01 -8.70618224e-02  6.84661046e-02\n",
      "  7.70659372e-02 -1.19550332e-01  4.52612005e-02  5.84997833e-02\n",
      " -1.02689154e-01  1.73030198e-02 -1.84801102e-05  1.31064892e-01\n",
      "  6.11303025e-04 -1.77407395e-02  3.64360306e-03 -5.01708873e-02\n",
      " -5.93916606e-03  4.39359210e-02  9.71281901e-02 -3.98783721e-02\n",
      " -1.21433638e-01 -3.64338122e-02 -1.09553069e-01 -1.31979600e-01\n",
      " -2.26403773e-02  1.86700970e-02 -2.10604575e-02 -3.03335655e-02\n",
      " -4.23979163e-02 -8.66299346e-02  9.93846580e-02 -6.44636527e-02\n",
      " -7.07887784e-02 -9.25129727e-02]\n",
      "shape: (50,)\n"
     ]
    }
   ],
   "source": [
    "print(\"First item name from metadata:\", df_items[\"title\"][1])\n",
    "print(\"Embedding vector for the first item:\")\n",
    "print(item_embedding_weights[1])\n",
    "print(\"shape:\", item_embedding_weights[1].shape)"
   ]
  },
  {
   "cell_type": "markdown",
   "metadata": {},
   "source": [
    "### Visualizing embeddings using TSNE\n",
    "\n",
    "- we use scikit learn to visualize items embeddings\n",
    "- Try different perplexities, and visualize user embeddings as well\n",
    "- check what is the impact of different perplexity value. Here is a very nice tutorial if you want to know in detail (https://distill.pub/2016/misread-tsne/ )"
   ]
  },
  {
   "cell_type": "code",
   "execution_count": 28,
   "metadata": {},
   "outputs": [],
   "source": [
    "from sklearn.manifold import TSNE\n",
    "\n",
    "item_tsne = TSNE(perplexity=50).fit_transform(item_embedding_weights)"
   ]
  },
  {
   "cell_type": "code",
   "execution_count": 29,
   "metadata": {},
   "outputs": [
    {
     "data": {
      "image/png": "[encoded data removed]",
      "text/plain": [
       "<Figure size 720x720 with 1 Axes>"
      ]
     },
     "metadata": {},
     "output_type": "display_data"
    }
   ],
   "source": [
    "import matplotlib.pyplot as plt\n",
    "\n",
    "plt.figure(figsize=(10, 10))\n",
    "plt.scatter(item_tsne[:, 0], item_tsne[:, 1]);\n",
    "plt.xticks(()); plt.yticks(());\n",
    "plt.show()"
   ]
  },
  {
   "cell_type": "markdown",
   "metadata": {},
   "source": [
    "## Using item metadata in the model\n",
    "\n",
    "Using a similar framework as previously, we will build another deep model that can also leverage additional metadata. The resulting system is therefore an **Hybrid Recommender System** that does both **Collaborative Filtering** and **Content-based recommendations**.\n",
    "\n",
    "\n",
    "\n",
    "![alt text](images/rec_archi_3.svg \"Title\")"
   ]
  },
  {
   "cell_type": "code",
   "execution_count": 30,
   "metadata": {},
   "outputs": [
    {
     "name": "stdout",
     "output_type": "stream",
     "text": [
      "Tensor(\"embedding/user_embedding:0\", shape=(?, 50), dtype=float32)\n",
      "Tensor(\"embedding/item_embedding:0\", shape=(?, 50), dtype=float32)\n",
      "Tensor(\"concatenation/concat:0\", shape=(?, 102), dtype=float32)\n",
      "Tensor(\"fc_1/hidden_output:0\", shape=(?, 64), dtype=float32)\n",
      "Tensor(\"dropout/hidden_output_drop/mul:0\", shape=(?, 64), dtype=float32)\n",
      "Tensor(\"fc_2/pred:0\", shape=(?, 1), dtype=float32)\n"
     ]
    }
   ],
   "source": [
    "embedding_size = 50\n",
    "reg_param = 0.01\n",
    "learning_rate = 0.01\n",
    "n_users = max_user_id + 1\n",
    "n_items = max_item_id + 1\n",
    "meta_size = 2\n",
    "\n",
    "g = tf.Graph()\n",
    "with g.as_default():\n",
    "\n",
    "    tf.set_random_seed(1234)\n",
    "    \n",
    "    users = tf.placeholder(shape=[None,1], dtype=tf.int64, name='input_users')\n",
    "    items = tf.placeholder(shape=[None,1], dtype=tf.int64, name='input_items')\n",
    "    meta = tf.placeholder(shape=[None,2], dtype=tf.float32, name='input_metadata')\n",
    "    ratings = tf.placeholder(shape=[None,1], dtype=tf.float32, name='input_ratings')\n",
    "    \n",
    "    l2_loss = tf.constant(0.0)\n",
    "    \n",
    "    # embeddding layer\n",
    "    with tf.variable_scope(\"embedding\"):\n",
    "        user_weights = tf.get_variable(\"user_w\"\n",
    "                                      , shape=[n_users, embedding_size]\n",
    "                                      , dtype=tf.float32\n",
    "                                      , initializer=layers.xavier_initializer())\n",
    "        \n",
    "        item_weights = tf.get_variable(\"item_w\"\n",
    "                                       , shape=[n_items, embedding_size]\n",
    "                                       , dtype=tf.float32\n",
    "                                       , initializer=layers.xavier_initializer())\n",
    "        \n",
    "        \n",
    "        \n",
    "        user_embedding = tf.squeeze(tf.nn.embedding_lookup(user_weights, users),axis=1, name='user_embedding')\n",
    "        item_embedding = tf.squeeze(tf.nn.embedding_lookup(item_weights, items),axis=1, name='item_embedding')\n",
    "        \n",
    "        l2_loss += tf.nn.l2_loss(user_weights)\n",
    "        l2_loss += tf.nn.l2_loss(item_weights)\n",
    "        \n",
    "        \n",
    "        print(user_embedding)\n",
    "        print(item_embedding)\n",
    "        \n",
    "    \n",
    "    # combine inputs\n",
    "    with tf.name_scope('concatenation'):\n",
    "        input_vecs = tf.concat([user_embedding, item_embedding, meta], axis=1)\n",
    "        print(input_vecs)\n",
    "        \n",
    "    # fc-1\n",
    "    num_hidden = 64\n",
    "    with tf.name_scope(\"fc_1\"):\n",
    "        W_fc_1 = tf.get_variable(\n",
    "            \"W_hidden\",\n",
    "            shape=[2*embedding_size + meta_size, num_hidden],\n",
    "            initializer=tf.contrib.layers.xavier_initializer())\n",
    "        b_fc_1 = tf.Variable(tf.constant(0.1, shape=[num_hidden]), name=\"b\")\n",
    "        hidden_output = tf.nn.relu(tf.nn.xw_plus_b(input_vecs, W_fc_1, b_fc_1), name='hidden_output')\n",
    "        l2_loss += tf.nn.l2_loss(W_fc_1)\n",
    "        print(hidden_output)\n",
    "    \n",
    "    # dropout\n",
    "    with tf.name_scope(\"dropout\"):\n",
    "        h_drop = tf.nn.dropout(hidden_output, 0.99, name=\"hidden_output_drop\")\n",
    "        print(h_drop)\n",
    "    \n",
    "    # fc-2\n",
    "    with tf.name_scope(\"fc_2\"):\n",
    "        W_fc_2 = tf.get_variable(\n",
    "            \"W_output\",\n",
    "            shape=[num_hidden,1],\n",
    "            initializer=tf.contrib.layers.xavier_initializer())\n",
    "        b_fc_2 = tf.Variable(tf.constant(0.1, shape=[1]), name=\"b\")\n",
    "        pred = tf.nn.xw_plus_b(h_drop, W_fc_2, b_fc_2, name='pred')\n",
    "        l2_loss += tf.nn.l2_loss(W_fc_2)\n",
    "        print(pred)\n",
    "\n",
    "    # loss\n",
    "    with tf.name_scope(\"loss\"):\n",
    "        loss = tf.nn.l2_loss(pred - ratings) + reg_param * l2_loss\n",
    "        train_ops = tf.train.AdamOptimizer(learning_rate=learning_rate).minimize(loss)\n",
    "        rmse = tf.sqrt(tf.reduce_mean(tf.pow(pred - ratings, 2)))"
   ]
  },
  {
   "cell_type": "code",
   "execution_count": 31,
   "metadata": {},
   "outputs": [],
   "source": [
    "from sklearn.preprocessing import QuantileTransformer\n",
    "\n",
    "meta_columns = ['popularity', 'release_year']\n",
    "\n",
    "scaler = QuantileTransformer()\n",
    "item_meta_train = scaler.fit_transform(ratings_train[meta_columns])\n",
    "item_meta_val = scaler.transform(ratings_val[meta_columns])\n",
    "item_meta_test = scaler.transform(ratings_test[meta_columns])"
   ]
  },
  {
   "cell_type": "code",
   "execution_count": 32,
   "metadata": {},
   "outputs": [],
   "source": [
    "def train_model_deep_meta():\n",
    "\n",
    "    losses_train = []\n",
    "    losses_val = []\n",
    "    epochs = 1000\n",
    "\n",
    "    with tf.Session(graph=g) as sess:\n",
    "        sess.run(tf.global_variables_initializer())\n",
    "        train_input_dict = {users: ratings_train['user_id'].values.reshape([-1,1])\n",
    "            , items: ratings_train['item_id'].values.reshape([-1,1])\n",
    "            , ratings: ratings_train['rating'].values.reshape([-1,1])\n",
    "                           ,meta: item_meta_train}\n",
    "\n",
    "        val_input_dict = {users: ratings_val['user_id'].values.reshape([-1,1])\n",
    "            , items: ratings_val['item_id'].values.reshape([-1,1])\n",
    "            , ratings: ratings_val['rating'].values.reshape([-1,1])\n",
    "                         ,meta : item_meta_val}\n",
    "\n",
    "        test_input_dict = {users: ratings_test['user_id'].values.reshape([-1,1])\n",
    "            , items: ratings_test['item_id'].values.reshape([-1,1])\n",
    "            , ratings: ratings_test['rating'].values.reshape([-1,1])\n",
    "                          ,meta : item_meta_test}\n",
    "        def check_overfit(validation_loss):\n",
    "            n = len(validation_loss)\n",
    "            if n < 5:\n",
    "                return False\n",
    "            count = 0 \n",
    "            for i in range(n-4, n):\n",
    "                if validation_loss[i] < validation_loss[i-1]:\n",
    "                    count += 1\n",
    "                if count >=3:\n",
    "                    return False\n",
    "            return True\n",
    "\n",
    "\n",
    "        for i in range(epochs):\n",
    "            sess.run([train_ops], feed_dict=train_input_dict)\n",
    "            if i % 10 == 0:\n",
    "                loss_train = sess.run(loss, feed_dict=train_input_dict)\n",
    "                loss_val = sess.run(loss, feed_dict=val_input_dict)\n",
    "                losses_train.append(loss_train)\n",
    "                losses_val.append(loss_val)\n",
    "\n",
    "                 # check early stopping \n",
    "                if(check_overfit(losses_val)):\n",
    "                    print('overfit !')\n",
    "                    break\n",
    "                print(\"iteration : %d train loss: %.3f , valid loss %.3f\" % (i,loss_train, loss_val))\n",
    "        \n",
    "        # plot train and validation loss\n",
    "        plt.plot(losses_train, label='train')\n",
    "        plt.plot(losses_val, label='validation')\n",
    "        plt.legend(loc='best')\n",
    "        plt.title('Loss');\n",
    "        \n",
    "         # calculate RMSE on the test dataset\n",
    "        print('RMSE on test dataset : {0:.4f}'.format(sess.run(rmse, feed_dict=test_input_dict)))\n",
    "        "
   ]
  },
  {
   "cell_type": "code",
   "execution_count": 33,
   "metadata": {},
   "outputs": [
    {
     "name": "stdout",
     "output_type": "stream",
     "text": [
      "iteration : 0 train loss: 393687.219 , valid loss 97932.086\n",
      "iteration : 10 train loss: 58525.973 , valid loss 15254.022\n",
      "iteration : 20 train loss: 36474.438 , valid loss 9531.139\n",
      "iteration : 30 train loss: 28394.703 , valid loss 7859.956\n",
      "iteration : 40 train loss: 26916.246 , valid loss 7353.238\n",
      "iteration : 50 train loss: 26480.629 , valid loss 7270.163\n",
      "iteration : 60 train loss: 26482.893 , valid loss 7298.847\n",
      "iteration : 70 train loss: 26471.447 , valid loss 7258.732\n",
      "overfit !\n",
      "RMSE on test dataset : 0.9484\n"
     ]
    },
    {
     "data": {
      "image/png": "[encoded data removed]",
      "text/plain": [
       "<Figure size 432x288 with 1 Axes>"
      ]
     },
     "metadata": {
      "needs_background": "light"
     },
     "output_type": "display_data"
    }
   ],
   "source": [
    "train_model_deep_meta()"
   ]
  },
  {
   "cell_type": "code",
   "execution_count": null,
   "metadata": {},
   "outputs": [],
   "source": []
  }
 ],
 "metadata": {
  "kernelspec": {
   "display_name": "Python 3",
   "language": "python",
   "name": "python3"
  },
  "language_info": {
   "codemirror_mode": {
    "name": "ipython",
    "version": 3
   },
   "file_extension": ".py",
   "mimetype": "text/x-python",
   "name": "python",
   "nbconvert_exporter": "python",
   "pygments_lexer": "ipython3",
   "version": "3.7.6"
  }
 },
 "nbformat": 4,
 "nbformat_minor": 4
}
